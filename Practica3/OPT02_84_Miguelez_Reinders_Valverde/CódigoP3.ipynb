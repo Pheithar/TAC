{
  "nbformat": 4,
  "nbformat_minor": 0,
  "metadata": {
    "colab": {
      "name": "CódigoP3.ipynb",
      "provenance": [],
      "collapsed_sections": [],
      "toc_visible": true
    },
    "kernelspec": {
      "name": "python3",
      "display_name": "Python 3"
    },
    "language_info": {
      "name": "python"
    }
  },
  "cells": [
    {
      "cell_type": "markdown",
      "metadata": {
        "id": "w_Plz1EXRKp2"
      },
      "source": [
        "# Práctica 3: Optimización combinatoria\n",
        "\n",
        "En este *notebook* se aplica el código en C++ de los algoritmos de la práctica para que puedan ser replicados en distintos ordenadores.\n",
        "\n",
        "\n",
        "Autores:\n",
        "\n",
        "\n"
      ]
    },
    {
      "cell_type": "code",
      "metadata": {
        "id": "Ly6DzHFZSRZ1"
      },
      "source": [
        "# Imports\n",
        "from google.colab import files\n",
        "import matplotlib.pyplot as plt\n",
        "from scipy import optimize\n",
        "import math\n",
        "import numpy as np\n"
      ],
      "execution_count": 2,
      "outputs": []
    },
    {
      "cell_type": "markdown",
      "metadata": {
        "id": "gS3tvjcLRvUB"
      },
      "source": [
        "## Algoritmo de profundidad iterativo"
      ]
    },
    {
      "cell_type": "markdown",
      "metadata": {
        "id": "uoAULCFPoApO"
      },
      "source": [
        "### Básico"
      ]
    },
    {
      "cell_type": "markdown",
      "metadata": {
        "id": "Mmn1R5lQR5VO"
      },
      "source": [
        "Carga del código **TSP_DFS.cpp**"
      ]
    },
    {
      "cell_type": "code",
      "metadata": {
        "id": "LP-AnbmcRH-l"
      },
      "source": [
        "files.upload()"
      ],
      "execution_count": null,
      "outputs": []
    },
    {
      "cell_type": "code",
      "metadata": {
        "id": "ZDud-azweLxE"
      },
      "source": [
        "%%shell\n",
        "\n",
        "g++ TSP_DFS.cpp -o TSP_DFS.o"
      ],
      "execution_count": null,
      "outputs": []
    },
    {
      "cell_type": "markdown",
      "metadata": {
        "id": "nkI3BZvioDke"
      },
      "source": [
        "### Con poda"
      ]
    },
    {
      "cell_type": "markdown",
      "metadata": {
        "id": "yypFJU0QoP3L"
      },
      "source": [
        "Carga del código **TSP_DFS_poda.cpp**"
      ]
    },
    {
      "cell_type": "code",
      "metadata": {
        "id": "89b7Je1toSTV"
      },
      "source": [
        "files.upload()"
      ],
      "execution_count": null,
      "outputs": []
    },
    {
      "cell_type": "code",
      "metadata": {
        "colab": {
          "base_uri": "https://localhost:8080/"
        },
        "id": "q5do3kXvoUBn",
        "outputId": "ff0717cb-4a51-4d9d-e6d7-ad47d6637287"
      },
      "source": [
        "%%shell\n",
        "\n",
        "g++ TSP_DFS_poda.cpp -o TSP_DFS_poda.o"
      ],
      "execution_count": null,
      "outputs": [
        {
          "output_type": "execute_result",
          "data": {
            "text/plain": [
              ""
            ]
          },
          "metadata": {
            "tags": []
          },
          "execution_count": 5
        }
      ]
    },
    {
      "cell_type": "markdown",
      "metadata": {
        "id": "Ovb1jfMMSOLy"
      },
      "source": [
        "## Algoritmo de búsqueda local"
      ]
    },
    {
      "cell_type": "markdown",
      "metadata": {
        "id": "Zc3RpU5gSUka"
      },
      "source": [
        "Carga del código **TspLocal.cpp**"
      ]
    },
    {
      "cell_type": "code",
      "metadata": {
        "id": "2A21nKCASb0R"
      },
      "source": [
        "files.upload()"
      ],
      "execution_count": null,
      "outputs": []
    },
    {
      "cell_type": "code",
      "metadata": {
        "colab": {
          "base_uri": "https://localhost:8080/"
        },
        "id": "lJ1B7r7xG8M7",
        "outputId": "5f2aa9d7-2620-46f1-841e-2044bcbc3033"
      },
      "source": [
        "%%shell\n",
        "\n",
        "g++ TSPLocal.cpp -o TSPLocal.o"
      ],
      "execution_count": null,
      "outputs": [
        {
          "output_type": "execute_result",
          "data": {
            "text/plain": [
              ""
            ]
          },
          "metadata": {
            "tags": []
          },
          "execution_count": 18
        }
      ]
    },
    {
      "cell_type": "markdown",
      "metadata": {
        "id": "T7mVjJwFT3LT"
      },
      "source": [
        "## Coste computacional"
      ]
    },
    {
      "cell_type": "markdown",
      "metadata": {
        "id": "qQQgLPaBUGqg"
      },
      "source": [
        "Cargar los mapas subiendo la carpeta comprimida **mapas.zip**"
      ]
    },
    {
      "cell_type": "code",
      "metadata": {
        "id": "rjUOeDGuT2Xr"
      },
      "source": [
        "files.upload()"
      ],
      "execution_count": null,
      "outputs": []
    },
    {
      "cell_type": "code",
      "metadata": {
        "id": "J_cbcS0QUnRt"
      },
      "source": [
        "!unzip mapas.zip"
      ],
      "execution_count": null,
      "outputs": []
    },
    {
      "cell_type": "markdown",
      "metadata": {
        "id": "CDS0iGeoUz4G"
      },
      "source": [
        "### Cálculo empírico del TSP DFS"
      ]
    },
    {
      "cell_type": "markdown",
      "metadata": {
        "id": "Kq6bDC1wfMxk"
      },
      "source": [
        "A continuación, se prueba el algoritmo en diversos mapas generados aleatoriamente, los cuales tienen tamaños distintos que van de 3 a 13 ciudades."
      ]
    },
    {
      "cell_type": "code",
      "metadata": {
        "id": "mmLfHFAfVUtl"
      },
      "source": [
        "%%shell \n",
        "rm DFS_output.txt\n",
        "\n",
        "for f in mapas/*; do\n",
        "  echo \"Mapa: $f\" >> DFS_output.txt\n",
        "  size=\"$(cut -d'-' -f1 <<< $f | cut -d't' -f2)\"\n",
        "  ./TSP_DFS.o $f $size 0 >> DFS_output.txt\n",
        "  echo \"\" >> DFS_output.txt\n",
        "done"
      ],
      "execution_count": null,
      "outputs": []
    },
    {
      "cell_type": "markdown",
      "metadata": {
        "id": "C7yysu1bfLrS"
      },
      "source": [
        "**Gráfica evolución coste**"
      ]
    },
    {
      "cell_type": "code",
      "metadata": {
        "id": "is_a4MKRf8zI"
      },
      "source": [
        "DFS_data_s = {}\n",
        "DFS_data_ns = {}\n",
        "size = 0\n",
        "simmetric = False\n",
        "\n",
        "with open(\"DFS_output.txt\", 'r') as f:\n",
        "  for line in f.readlines():\n",
        "    if line.split(\":\")[0] == \"Mapa\":\n",
        "      size = line.split(\"t\")[1].split(\"-\")[0]\n",
        "      simmetric = line.split(\"-\")[1][0] == \"s\"\n",
        "\n",
        "    if line.split(\":\")[0] == \"Tiempo\":\n",
        "      time_path = float(line.split(\": \")[1][:-1])\n",
        "      \n",
        "      if simmetric:\n",
        "        if size in DFS_data_s:\n",
        "          DFS_data_s[size].append(time_path)\n",
        "        else:\n",
        "          DFS_data_s[size] = [time_path]\n",
        "        \n",
        "      else:\n",
        "        if size in DFS_data_ns:\n",
        "          DFS_data_ns[size].append(time_path)\n",
        "        else:\n",
        "          DFS_data_ns[size] = [time_path]"
      ],
      "execution_count": null,
      "outputs": []
    },
    {
      "cell_type": "code",
      "metadata": {
        "id": "9oNjyZm6oISk"
      },
      "source": [
        "x_s = []\n",
        "y_s = []\n",
        "x_ns = []\n",
        "y_ns = []\n",
        "\n",
        "for key in DFS_data_s.keys():\n",
        "  for value in DFS_data_s[key]:\n",
        "    x_s.append(int(key))\n",
        "    y_s.append(value)\n",
        "\n",
        "for key in DFS_data_ns.keys():\n",
        "  for value in DFS_data_ns[key]:\n",
        "    x_ns.append(int(key))\n",
        "    y_ns.append(value)"
      ],
      "execution_count": null,
      "outputs": []
    },
    {
      "cell_type": "code",
      "metadata": {
        "id": "CQtESiuIqvGS"
      },
      "source": [
        "plt.figure(figsize=(10,5))\n",
        "plt.scatter(x_s, y_s, s=60, label=\"Mapas simétricos\")\n",
        "plt.scatter(x_ns, y_ns, s=20, label=\"Mapas no simétricos\")\n",
        "plt.xticks([x for x in range(3, 13)])\n",
        "plt.xlabel(\"Tamaño mapas\")\n",
        "plt.ylabel(\"Tiempo (s)\")\n",
        "plt.title(\"Gráfica comparativa de tiempo entre mapas simétricos y no simétricos\", fontweight=\"bold\")\n",
        "plt.legend()\n",
        "plt.show()"
      ],
      "execution_count": null,
      "outputs": []
    },
    {
      "cell_type": "code",
      "metadata": {
        "id": "gQnLAxmyijek"
      },
      "source": [
        "def DFS_cost(n, a):\n",
        "  cost = np.zeros_like(n)\n",
        "  for k, num in enumerate(n):\n",
        "    for i in range(int(num)-1):\n",
        "      cost[k] += math.factorial(num-1)/math.factorial(i)\n",
        "    cost[k] *= num\n",
        "  return a * cost "
      ],
      "execution_count": null,
      "outputs": []
    },
    {
      "cell_type": "code",
      "metadata": {
        "id": "L-y8pepxiivb"
      },
      "source": [
        "params, params_covariance = optimize.curve_fit(DFS_cost, np.array(x_s + x_ns), np.array(y_s + y_ns))\n",
        "params"
      ],
      "execution_count": null,
      "outputs": []
    },
    {
      "cell_type": "code",
      "metadata": {
        "id": "wbk2qUR_mR4x"
      },
      "source": [
        "plot_orderd = list(zip(x_s + x_ns, DFS_cost(np.array(x_s + x_ns), params[0])))\n",
        "plot_orderd = sorted(plot_orderd, key=lambda x: x[0])\n",
        "\n",
        "x, y = zip(*plot_orderd)"
      ],
      "execution_count": null,
      "outputs": []
    },
    {
      "cell_type": "code",
      "metadata": {
        "id": "62tYQXurlMP_"
      },
      "source": [
        "plt.figure(figsize=(10,5))\n",
        "plt.plot(x, y, c='r', label='Valores Esperados', lw=2)\n",
        "plt.scatter(x_s + x_ns, y_s + y_ns, s=60, label=\"Valores Empíricos\")\n",
        "\n",
        "plt.xticks([x for x in range(3, 13)])\n",
        "plt.xlabel(\"Tamaño mapas\")\n",
        "plt.ylabel(\"Tiempo (s)\")\n",
        "plt.title(\"Gráfica comparativa de valores empíricos y analíticos\", fontweight=\"bold\")\n",
        "plt.legend()\n",
        "plt.show()"
      ],
      "execution_count": null,
      "outputs": []
    },
    {
      "cell_type": "markdown",
      "metadata": {
        "id": "otpHRtlkn5tY"
      },
      "source": [
        "### Cálculo empírico del TSP DFS poda\n"
      ]
    },
    {
      "cell_type": "code",
      "metadata": {
        "id": "Op_XEQkln5VP"
      },
      "source": [
        "%%shell \n",
        "rm DFS_poda_output.txt\n",
        "\n",
        "for f in mapas/*; do\n",
        "  echo \"Mapa: $f\" >> DFS_poda_output.txt\n",
        "  size=\"$(cut -d'-' -f1 <<< $f | cut -d't' -f2)\"\n",
        "  ./TSP_DFS_poda.o $f $size 0 >> DFS_poda_output.txt\n",
        "  echo \"\" >> DFS_poda_output.txt\n",
        "done"
      ],
      "execution_count": null,
      "outputs": []
    },
    {
      "cell_type": "markdown",
      "metadata": {
        "id": "FSGF7fDJpJ5a"
      },
      "source": [
        "**Gráfica evolución coste**"
      ]
    },
    {
      "cell_type": "code",
      "metadata": {
        "id": "Xtga7tR5pGFn"
      },
      "source": [
        "DFS_poda_data_s = {}\n",
        "DFS_poda_data_ns = {}\n",
        "size = 0\n",
        "simmetric = False\n",
        "\n",
        "with open(\"DFS_poda_output.txt\", 'r') as f:\n",
        "  for line in f.readlines():\n",
        "    if line.split(\":\")[0] == \"Mapa\":\n",
        "      size = line.split(\"t\")[1].split(\"-\")[0]\n",
        "      simmetric = line.split(\"-\")[1][0] == \"s\"\n",
        "\n",
        "    if line.split(\":\")[0] == \"Tiempo\":\n",
        "      time_path = float(line.split(\": \")[1][:-1])\n",
        "      \n",
        "      if simmetric:\n",
        "        if size in DFS_poda_data_s:\n",
        "          DFS_poda_data_s[size].append(time_path)\n",
        "        else:\n",
        "          DFS_poda_data_s[size] = [time_path]\n",
        "        \n",
        "      else:\n",
        "        if size in DFS_poda_data_ns:\n",
        "          DFS_poda_data_ns[size].append(time_path)\n",
        "        else:\n",
        "          DFS_poda_data_ns[size] = [time_path]"
      ],
      "execution_count": 102,
      "outputs": []
    },
    {
      "cell_type": "code",
      "metadata": {
        "id": "i16--ZM1r3kR"
      },
      "source": [
        "x_s = []\n",
        "y_s = []\n",
        "x_ns = []\n",
        "y_ns = []\n",
        "\n",
        "for key in DFS_poda_data_s.keys():\n",
        "  for value in DFS_poda_data_s[key]:\n",
        "    x_s.append(int(key))\n",
        "    y_s.append(value)\n",
        "\n",
        "for key in DFS_poda_data_ns.keys():\n",
        "  for value in DFS_poda_data_ns[key]:\n",
        "    x_ns.append(int(key))\n",
        "    y_ns.append(value)"
      ],
      "execution_count": 103,
      "outputs": []
    },
    {
      "cell_type": "code",
      "metadata": {
        "id": "sCmvcKFHvMF-"
      },
      "source": [
        "plt.figure(figsize=(10,5))\n",
        "plt.scatter(x_s, y_s, s=60, label=\"Mapas simétricos\")\n",
        "plt.scatter(x_ns, y_ns, s=20, label=\"Mapas no simétricos\")\n",
        "plt.xticks([x for x in range(3, 20)])\n",
        "plt.xlabel(\"Tamaño mapas\")\n",
        "plt.ylabel(\"Tiempo (s)\")\n",
        "plt.title(\"Gráfica comparativa de tiempo entre mapas simétricos y no simétricos\", fontweight=\"bold\")\n",
        "plt.legend()\n",
        "plt.show()"
      ],
      "execution_count": null,
      "outputs": []
    },
    {
      "cell_type": "markdown",
      "metadata": {
        "id": "6j4-BWzsHKtR"
      },
      "source": [
        "### Cálculo empírico del TSP Local"
      ]
    },
    {
      "cell_type": "code",
      "metadata": {
        "id": "L9Ict-SLHiSi"
      },
      "source": [
        "%%shell \n",
        "rm TSPLocal_output.txt\n",
        "\n",
        "for f in mapas/*; do\n",
        "  echo \"Mapa: $f\" >> TSPLocal_output.txt\n",
        "  size=\"$(cut -d'-' -f1 <<< $f | cut -d't' -f2)\"\n",
        "  ./TSPLocal.o $f $size 0 >> TSPLocal_output.txt\n",
        "  echo \"\" >> TSPLocal_output.txt\n",
        "done"
      ],
      "execution_count": null,
      "outputs": []
    },
    {
      "cell_type": "markdown",
      "metadata": {
        "id": "orX1wLOoHiSn"
      },
      "source": [
        "**Gráfica evolución coste**"
      ]
    },
    {
      "cell_type": "code",
      "metadata": {
        "id": "WU6Vr9rtHiSv"
      },
      "source": [
        "TSPLocal_data_s = {}\n",
        "TSPLocal_data_ns = {}\n",
        "size = 0\n",
        "simmetric = False\n",
        "\n",
        "with open(\"TSPLocal_output.txt\", 'r') as f:\n",
        "  for line in f.readlines():\n",
        "    if line.split(\":\")[0] == \"Mapa\":\n",
        "      size = line.split(\"t\")[1].split(\"-\")[0]\n",
        "      simmetric = line.split(\"-\")[1][0] == \"s\"\n",
        "\n",
        "    if line.split(\":\")[0] == \"Tiempo\":\n",
        "      time_path = float(line.split(\": \")[1][:-1])\n",
        "      \n",
        "      if simmetric:\n",
        "        if size in TSPLocal_data_s:\n",
        "          TSPLocal_data_s[size].append(time_path)\n",
        "        else:\n",
        "          TSPLocal_data_s[size] = [time_path]\n",
        "        \n",
        "      else:\n",
        "        if size in TSPLocal_data_ns:\n",
        "          TSPLocal_data_ns[size].append(time_path)\n",
        "        else:\n",
        "          TSPLocal_data_ns[size] = [time_path]"
      ],
      "execution_count": 9,
      "outputs": []
    },
    {
      "cell_type": "code",
      "metadata": {
        "id": "toFC9GjcHZBR"
      },
      "source": [
        "x_s = []\n",
        "y_s = []\n",
        "x_ns = []\n",
        "y_ns = []\n",
        "\n",
        "for key in TSPLocal_data_s.keys():\n",
        "  for value in TSPLocal_data_s[key]:\n",
        "    x_s.append(int(key))\n",
        "    y_s.append(value)\n",
        "\n",
        "for key in TSPLocal_data_ns.keys():\n",
        "  for value in TSPLocal_data_ns[key]:\n",
        "    x_ns.append(int(key))\n",
        "    y_ns.append(value)"
      ],
      "execution_count": 10,
      "outputs": []
    },
    {
      "cell_type": "code",
      "metadata": {
        "id": "2IQEFYcIHZBT"
      },
      "source": [
        "plt.figure(figsize=(10,5))\n",
        "plt.scatter(x_s, y_s, s=60, label=\"Mapas simétricos\")\n",
        "plt.scatter(x_ns, y_ns, s=20, label=\"Mapas no simétricos\")\n",
        "plt.xticks([x for x in range(3, 20)])\n",
        "plt.xlabel(\"Tamaño mapas\")\n",
        "plt.ylabel(\"Tiempo (s)\")\n",
        "plt.title(\"Gráfica comparativa de tiempo entre mapas simétricos y no simétricos\", fontweight=\"bold\")\n",
        "plt.legend()\n",
        "plt.show()"
      ],
      "execution_count": null,
      "outputs": []
    },
    {
      "cell_type": "code",
      "metadata": {
        "id": "OPkuF5Mea_Es"
      },
      "source": [
        "def local_cost(n, a):\n",
        "  cost = np.zeros_like(n)\n",
        "  for k, num in enumerate(n):\n",
        "    cost[k] += (num**2 + num) * math.factorial(num-1)\n",
        "  return a * cost "
      ],
      "execution_count": 12,
      "outputs": []
    },
    {
      "cell_type": "code",
      "metadata": {
        "id": "RWEGUprbdilr"
      },
      "source": [
        "def local_cost(n, a):\n",
        "  return a * n**3"
      ],
      "execution_count": 27,
      "outputs": []
    },
    {
      "cell_type": "code",
      "metadata": {
        "id": "qEgehU_Qa_Ev"
      },
      "source": [
        "params, params_covariance = optimize.curve_fit(local_cost, np.array(x_s + x_ns), np.array(y_s + y_ns))\n",
        "params"
      ],
      "execution_count": null,
      "outputs": []
    },
    {
      "cell_type": "code",
      "metadata": {
        "id": "mEbfST_Ga_Ez"
      },
      "source": [
        "plot_orderd = list(zip(x_s + x_ns, local_cost(np.array(x_s + x_ns), params[0])))\n",
        "plot_orderd = sorted(plot_orderd, key=lambda x: x[0])\n",
        "\n",
        "x, y = zip(*plot_orderd)"
      ],
      "execution_count": 29,
      "outputs": []
    },
    {
      "cell_type": "code",
      "metadata": {
        "id": "QPtuJuAKa_E0"
      },
      "source": [
        "plt.figure(figsize=(10,5))\n",
        "plt.plot(x, y, c='r', label='Valores Esperados', lw=2)\n",
        "plt.scatter(x_s + x_ns, y_s + y_ns, s=60, label=\"Valores Empíricos\")\n",
        "\n",
        "plt.xticks([x for x in range(3, 20)])\n",
        "plt.xlabel(\"Tamaño mapas\")\n",
        "plt.ylabel(\"Tiempo (s)\")\n",
        "plt.title(\"Gráfica comparativa de valores empíricos y analíticos\", fontweight=\"bold\")\n",
        "plt.legend()\n",
        "plt.show()"
      ],
      "execution_count": null,
      "outputs": []
    },
    {
      "cell_type": "markdown",
      "metadata": {
        "id": "nx9KtVXD27Aj"
      },
      "source": [
        "### Calidad de la solución"
      ]
    },
    {
      "cell_type": "code",
      "metadata": {
        "id": "O66LtZlM4A0h"
      },
      "source": [
        "DFS_poda_cost = {}\n",
        "name = \"\"\n",
        "\n",
        "with open(\"DFS_poda_output.txt\", 'r') as f:\n",
        "  for line in f.readlines():\n",
        "    if line.split(\":\")[0] == \"Mapa\":\n",
        "      name = line.split(\": \")[1][:-1]\n",
        "\n",
        "    if line.split(\":\")[0] == \"Coste\":\n",
        "      cost = int(line.split(\": \")[1][:-1])\n",
        "      DFS_poda_cost[name] = cost"
      ],
      "execution_count": 36,
      "outputs": []
    },
    {
      "cell_type": "code",
      "metadata": {
        "id": "gIl5NNlx6d5v"
      },
      "source": [
        "TSPLocal_cost = {}\n",
        "name = \"\"\n",
        "\n",
        "with open(\"TSPLocal_output.txt\", 'r') as f:\n",
        "  for line in f.readlines():\n",
        "    if line.split(\":\")[0] == \"Mapa\":\n",
        "      name = line.split(\": \")[1][:-1]\n",
        "\n",
        "    if line.split(\":\")[0] == \"Coste\":\n",
        "      cost = int(line.split(\": \")[1][:-1])\n",
        "      TSPLocal_cost[name] = cost"
      ],
      "execution_count": 38,
      "outputs": []
    },
    {
      "cell_type": "code",
      "metadata": {
        "id": "lWEWlqs763YH"
      },
      "source": [
        "comp = []\n",
        "\n",
        "for key in TSPLocal_cost.keys():\n",
        "  if key in DFS_poda_cost and key in TSPLocal_cost:\n",
        "    comp.append(DFS_poda_cost[key]/TSPLocal_cost[key])"
      ],
      "execution_count": 40,
      "outputs": []
    },
    {
      "cell_type": "code",
      "metadata": {
        "id": "xJph1tG47rVC"
      },
      "source": [
        "print(\"La calidad media de las soluciones es \" + str((sum(comp)/len(comp)*100)) + \"%\")"
      ],
      "execution_count": null,
      "outputs": []
    }
  ]
}